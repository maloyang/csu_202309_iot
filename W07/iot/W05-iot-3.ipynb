{
 "cells": [
  {
   "cell_type": "markdown",
   "metadata": {},
   "source": [
    "## W04-3 : IoT資料的收集\n",
    "----"
   ]
  },
  {
   "cell_type": "markdown",
   "metadata": {},
   "source": [
    "### Modbus通訊\n",
    "\n",
    "- modbus-tk\n",
    "- "
   ]
  },
  {
   "cell_type": "code",
   "execution_count": 1,
   "metadata": {},
   "outputs": [],
   "source": [
    "import time\n",
    "\n",
    "import serial\n",
    "import modbus_tk\n",
    "import modbus_tk.defines as cst\n",
    "import modbus_tk.modbus_rtu as modbus_rtu\n",
    "import modbus_tk.modbus_tcp as modbus_tcp\n"
   ]
  },
  {
   "cell_type": "code",
   "execution_count": 7,
   "metadata": {},
   "outputs": [],
   "source": [
    "mb_ip = '127.0.0.1'\n",
    "mb_port = 502\n",
    "master = modbus_tcp.TcpMaster(mb_ip, mb_port)\n",
    "master.set_timeout(1)\n"
   ]
  },
  {
   "cell_type": "code",
   "execution_count": 8,
   "metadata": {},
   "outputs": [
    {
     "name": "stdout",
     "output_type": "stream",
     "text": [
      "T=32.5, H=80.0\n"
     ]
    }
   ],
   "source": [
    "mb_id = 1\n",
    "addr = 0\n",
    "rr = master.execute(mb_id, cst.ANALOG_INPUTS, addr, 2)\n",
    "temp = rr[0]/10\n",
    "humi = rr[1]/10\n",
    "\n",
    "print('T=%s, H=%s' %(temp, humi))"
   ]
  },
  {
   "cell_type": "markdown",
   "metadata": {},
   "source": [
    "### 將收集的資訊，定時寫入資料庫中"
   ]
  },
  {
   "cell_type": "code",
   "execution_count": null,
   "metadata": {},
   "outputs": [],
   "source": [
    "# todo:\n"
   ]
  },
  {
   "cell_type": "markdown",
   "metadata": {},
   "source": [
    "## 控制設備"
   ]
  },
  {
   "cell_type": "code",
   "execution_count": 10,
   "metadata": {},
   "outputs": [
    {
     "name": "stderr",
     "output_type": "stream",
     "text": [
      "Error while flushing the socket: argument must be an int, or have a fileno() method.\n"
     ]
    },
    {
     "name": "stdout",
     "output_type": "stream",
     "text": [
      "Write(addr, value)= (0, 65280)\n",
      "Write(addr, value)= (0, 0)\n",
      "Write(addr, value)= (0, 65280)\n",
      "Write(addr, value)= (0, 0)\n"
     ]
    },
    {
     "data": {
      "text/plain": [
       "True"
      ]
     },
     "execution_count": 10,
     "metadata": {},
     "output_type": "execute_result"
    }
   ],
   "source": [
    "mb_id = 1\n",
    "addr = 0\n",
    "\n",
    "for i in range(1, 5):\n",
    "    try:\n",
    "        value = i%2\n",
    "        #-- FC5: write multi-coils\n",
    "        rr = master.execute(mb_id, cst.WRITE_SINGLE_COIL, addr, output_value=value)\n",
    "        print(\"Write(addr, value)=\",  rr)\n",
    "\n",
    "    except Exception as e:\n",
    "        print(\"modbus test Error: \" + str(e))\n",
    "\n",
    "    time.sleep(5)\n"
   ]
  },
  {
   "cell_type": "code",
   "execution_count": null,
   "metadata": {},
   "outputs": [],
   "source": []
  }
 ],
 "metadata": {
  "kernelspec": {
   "display_name": "Python 3",
   "language": "python",
   "name": "python3"
  },
  "language_info": {
   "codemirror_mode": {
    "name": "ipython",
    "version": 3
   },
   "file_extension": ".py",
   "mimetype": "text/x-python",
   "name": "python",
   "nbconvert_exporter": "python",
   "pygments_lexer": "ipython3",
   "version": "3.7.0"
  }
 },
 "nbformat": 4,
 "nbformat_minor": 2
}
