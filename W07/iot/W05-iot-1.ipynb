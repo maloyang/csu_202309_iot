{
 "cells": [
  {
   "cell_type": "markdown",
   "metadata": {},
   "source": [
    "# MQTT\n",
    "\n",
    "- MQTT (Message Queue Telemetry Transport)\n",
    "- 為M2M, IOT設計的協定，基於TCP socket，主要是想讓系統資源較低的設備也可以把資料上傳到Server。\n",
    "- 目前已是ISO的一員:\n",
    "    - 2016, MQTT is now an ISO standard (ISO/IEC 20922)\n",
    "- 本次教學中的MQTT雲端服務為Eclipse所提供：\u000b",
    "iot.eclipse.org    \n",
    "- 架構如下：\n",
    "    - 有興趣可以參考此[文章](https://www.javacodegeeks.com/2016/10/mqtt-protocol-tutorial.html)進一步了解\n",
    "![mqtt](https://www.javacodegeeks.com/wp-content/uploads/2016/10/mqtt_publisher_subscriber-1.png)\n"
   ]
  },
  {
   "cell_type": "markdown",
   "metadata": {},
   "source": [
    "# 利用手機和你的IOT設備互動\n"
   ]
  },
  {
   "cell_type": "markdown",
   "metadata": {},
   "source": [
    "----\n",
    "## 圖文併茂的Android手機監控APP - Linear MQTT Dashboard\n",
    "\n",
    "* 先在android play上安裝Linear MQTT Dashboard\n",
    "* 打開APP後的操作流程如下圖：\n",
    "    * Led燈：malo-iot/light\n",
    "    * 溫度：malo-iot/T\n",
    "    * 溼度：malo-iot/H\n",
    "    \n",
    "![linear-mqtt1](image/linear-mqtt.png)"
   ]
  },
  {
   "cell_type": "markdown",
   "metadata": {},
   "source": [
    "### 有資訊push上來後的畫面\n",
    "\n",
    "![linear-mqtt1](image/linear-mqtt2.png)"
   ]
  },
  {
   "cell_type": "code",
   "execution_count": null,
   "metadata": {},
   "outputs": [],
   "source": [
    "# 先安裝MQTT的module (for colab)\n",
    "!pip install paho-mqtt"
   ]
  },
  {
   "cell_type": "markdown",
   "metadata": {},
   "source": [
    "## 接收資料的方法: subscribe"
   ]
  },
  {
   "cell_type": "code",
   "execution_count": null,
   "metadata": {},
   "outputs": [],
   "source": [
    "import paho.mqtt.client as mqtt\n",
    "import time, json, datetime, sys, os\n",
    "\n",
    "#==================\n",
    "#== MQTT Functions\n",
    "\n",
    "# 當地端程式連線伺服器得到回應時，要做的動作\n",
    "def on_connect(client, userdata, flags, rc):\n",
    "    print(\"Connected with result code \"+str(rc))\n",
    "    # 將訂閱主題寫在on_connet中\n",
    "    # 如果我們失去連線或重新連線時 \n",
    "    # 地端程式將會重新訂閱\n",
    "    client.subscribe('/your-home/temp')\n",
    "    \n",
    "\n",
    "# 當接收到從伺服器發送的訊息時要進行的動作\n",
    "def on_message(client, userdata, msg):\n",
    "    # 轉換編碼utf-8才看得懂中文\n",
    "    try:\n",
    "        topic = msg.topic\n",
    "        value = msg.payload.decode('utf-8')\n",
    "        dtime = time.strftime(\"%Y-%m-%d %H:%M:%S\", time.localtime())\n",
    "        print('(topic, value)=(%s, %s) @%s' %(topic, value, dtime))\n",
    "    except Exception as e:\n",
    "        print('read data exception: ', str(e))\n",
    "\n",
    "def run_mqtt():\n",
    "    try:\n",
    "        # 連線設定\n",
    "        # 初始化地端程式\n",
    "        client = mqtt.Client()\n",
    "\n",
    "        # 設定連線的動作\n",
    "        client.on_connect = on_connect\n",
    "\n",
    "        # 設定接收訊息的動作\n",
    "        client.on_message = on_message\n",
    "\n",
    "        # 設定登入帳號密碼\n",
    "        #client.username_pw_set(\"try\",\"xxxx\")\n",
    "\n",
    "        # 設定連線資訊(IP, Port, 連線時間)\n",
    "        client.connect(\"broker.hivemq.com\", 1883, 60)\n",
    "\n",
    "        # 開始連線，執行設定的動作和處理重新連線問題\n",
    "        # 也可以手動使用其他loop函式來進行連接\n",
    "        #client.loop_forever()\n",
    "        client.loop_start()    #start the loop\n",
    "\n",
    "        time.sleep(30)\n",
    "\n",
    "        client.disconnect() # disconnect gracefully\n",
    "        client.loop_stop() # stops network loop\n",
    "        \n",
    "    except Exception as e:\n",
    "        print('run mqtt error: ', str(e))\n",
    "\n",
    "run_mqtt()\n"
   ]
  },
  {
   "cell_type": "code",
   "execution_count": null,
   "metadata": {},
   "outputs": [],
   "source": []
  },
  {
   "cell_type": "markdown",
   "metadata": {},
   "source": [
    "### 把MQTT資訊送上Server(broker)"
   ]
  },
  {
   "cell_type": "code",
   "execution_count": null,
   "metadata": {},
   "outputs": [],
   "source": [
    "# push mqtt msg\n",
    "\n",
    "import paho.mqtt.client as mqtt\n",
    "import time, json, datetime, sys, os\n",
    "import random\n",
    "\n",
    "def on_connect(client, userdata, flags, rc):\n",
    "    m=\"Connected flags\"+str(flags)+\", result code \"+str(rc)+\", client_id  \"+str(client)\n",
    "    print(m)\n",
    "\n",
    "# some online free broker:\n",
    "#   iot.eclipse.org\n",
    "#   test.mosquitto.org\n",
    "#   broker.hivemq.com\n",
    "broker_address = \"broker.hivemq.com\"\n",
    "broker_port = 1883\n",
    "\n",
    "client1 = mqtt.Client()    #create new instance\n",
    "client1.on_connect = on_connect        #attach function to callback\n",
    "\n",
    "time.sleep(0.5)\n",
    "client1.connect(host=broker_address, port=broker_port, keepalive=60)      #connect to broker\n",
    "topic_str = '/your-home/temp'\n",
    "        \n",
    "client1.loop_start()    #start the loop\n",
    "time.sleep(0.5)\n",
    "print(\"loop start\")\n",
    "\n",
    "#-- start to push data\n",
    "for k in range(10):\n",
    "    temp = 25 + random.randint(-3, 3)\n",
    "    print('--> push', topic_str, temp)\n",
    "    client1.publish(topic_str, temp, qos=1)\n",
    "    time.sleep(5)\n",
    "\n",
    "time.sleep(0.1)\n",
    "\n",
    "client1.disconnect()\n"
   ]
  },
  {
   "cell_type": "markdown",
   "metadata": {},
   "source": [
    "## 進一步把資料記錄到變數中"
   ]
  },
  {
   "cell_type": "code",
   "execution_count": null,
   "metadata": {},
   "outputs": [],
   "source": [
    "import paho.mqtt.client as mqtt\n",
    "import time, json, datetime, sys, os\n",
    "\n",
    "temp_list = []\n",
    "#==================\n",
    "#== MQTT Functions\n",
    "\n",
    "# 當地端程式連線伺服器得到回應時，要做的動作\n",
    "def on_connect(client, userdata, flags, rc):\n",
    "    print(\"Connected with result code \"+str(rc))\n",
    "    # 將訂閱主題寫在on_connet中\n",
    "    # 如果我們失去連線或重新連線時 \n",
    "    # 地端程式將會重新訂閱\n",
    "    client.subscribe('/your-home/temp')\n",
    "    \n",
    "\n",
    "# 當接收到從伺服器發送的訊息時要進行的動作\n",
    "def on_message(client, userdata, msg):\n",
    "    # 轉換編碼utf-8才看得懂中文\n",
    "    try:\n",
    "        topic = msg.topic\n",
    "        value = msg.payload.decode('utf-8')\n",
    "        dtime = time.strftime(\"%Y-%m-%d %H:%M:%S\", time.localtime())\n",
    "        print('(topic, value)=(%s, %s) @%s' %(topic, value, dtime))\n",
    "        temp_list.append(value)\n",
    "\n",
    "    except Exception as e:\n",
    "        print('read data exception: ', str(e))\n",
    "\n",
    "def run_mqtt():\n",
    "    try:\n",
    "        # 連線設定\n",
    "        # 初始化地端程式\n",
    "        client = mqtt.Client()\n",
    "\n",
    "        # 設定連線的動作\n",
    "        client.on_connect = on_connect\n",
    "\n",
    "        # 設定接收訊息的動作\n",
    "        client.on_message = on_message\n",
    "\n",
    "        # 設定登入帳號密碼\n",
    "        #client.username_pw_set(\"try\",\"xxxx\")\n",
    "\n",
    "        # 設定連線資訊(IP, Port, 連線時間)\n",
    "        client.connect(\"broker.hivemq.com\", 1883, 60)\n",
    "\n",
    "        # 開始連線，執行設定的動作和處理重新連線問題\n",
    "        # 也可以手動使用其他loop函式來進行連接\n",
    "        #client.loop_forever()\n",
    "        client.loop_start()    #start the loop\n",
    "\n",
    "        time.sleep(30)\n",
    "\n",
    "        client.disconnect() # disconnect gracefully\n",
    "        client.loop_stop() # stops network loop\n",
    "        \n",
    "    except Exception as e:\n",
    "        print('run mqtt error: ', str(e))\n",
    "\n",
    "run_mqtt()\n",
    "\n",
    "print(temp_list)\n"
   ]
  },
  {
   "cell_type": "markdown",
   "metadata": {},
   "source": [
    "### 來畫個趨勢圖!"
   ]
  },
  {
   "cell_type": "code",
   "execution_count": null,
   "metadata": {},
   "outputs": [],
   "source": [
    "%matplotlib inline\n",
    "\n",
    "import matplotlib.pyplot as plt\n",
    "\n",
    "plt.plot(temp_list)\n",
    "plt.xlabel('time')\n",
    "plt.ylabel('degree')\n",
    "plt.grid()"
   ]
  },
  {
   "cell_type": "code",
   "execution_count": null,
   "metadata": {},
   "outputs": [],
   "source": []
  },
  {
   "cell_type": "markdown",
   "metadata": {},
   "source": [
    "## 加入時間的記錄"
   ]
  },
  {
   "cell_type": "code",
   "execution_count": null,
   "metadata": {},
   "outputs": [],
   "source": [
    "import paho.mqtt.client as mqtt\n",
    "import time, json, datetime, sys, os\n",
    "\n",
    "temp_list = []\n",
    "time_list = []\n",
    "#==================\n",
    "#== MQTT Functions\n",
    "\n",
    "# 當地端程式連線伺服器得到回應時，要做的動作\n",
    "def on_connect(client, userdata, flags, rc):\n",
    "    print(\"Connected with result code \"+str(rc))\n",
    "    # 將訂閱主題寫在on_connet中\n",
    "    # 如果我們失去連線或重新連線時 \n",
    "    # 地端程式將會重新訂閱\n",
    "    client.subscribe('/your-home/temp')\n",
    "    \n",
    "\n",
    "# 當接收到從伺服器發送的訊息時要進行的動作\n",
    "def on_message(client, userdata, msg):\n",
    "    # 轉換編碼utf-8才看得懂中文\n",
    "    try:\n",
    "        topic = msg.topic\n",
    "        value = msg.payload.decode('utf-8')\n",
    "        dtime = time.strftime(\"%Y-%m-%d %H:%M:%S\", time.localtime())\n",
    "        print('(topic, value)=(%s, %s) @%s' %(topic, value, dtime))\n",
    "        temp_list.append(value)\n",
    "        time_list.append(dtime)\n",
    "\n",
    "    except Exception as e:\n",
    "        print('read data exception: ', str(e))\n",
    "\n",
    "def run_mqtt():\n",
    "    try:\n",
    "        # 連線設定\n",
    "        # 初始化地端程式\n",
    "        client = mqtt.Client()\n",
    "\n",
    "        # 設定連線的動作\n",
    "        client.on_connect = on_connect\n",
    "\n",
    "        # 設定接收訊息的動作\n",
    "        client.on_message = on_message\n",
    "\n",
    "        # 設定登入帳號密碼\n",
    "        #client.username_pw_set(\"try\",\"xxxx\")\n",
    "\n",
    "        # 設定連線資訊(IP, Port, 連線時間)\n",
    "        client.connect(\"broker.hivemq.com\", 1883, 60)\n",
    "\n",
    "        # 開始連線，執行設定的動作和處理重新連線問題\n",
    "        # 也可以手動使用其他loop函式來進行連接\n",
    "        #client.loop_forever()\n",
    "        client.loop_start()    #start the loop\n",
    "\n",
    "        time.sleep(30)\n",
    "\n",
    "        client.disconnect() # disconnect gracefully\n",
    "        client.loop_stop() # stops network loop\n",
    "        \n",
    "    except Exception as e:\n",
    "        print('run mqtt error: ', str(e))\n",
    "\n",
    "run_mqtt()\n",
    "\n",
    "print(temp_list)\n",
    "print(time_list)\n"
   ]
  },
  {
   "cell_type": "code",
   "execution_count": null,
   "metadata": {},
   "outputs": [],
   "source": [
    "%matplotlib inline\n",
    "\n",
    "import matplotlib.pyplot as plt\n",
    "\n",
    "plt.plot(time_list, temp_list)\n",
    "plt.xlabel('time')\n",
    "plt.ylabel('degree')\n",
    "plt.xticks(time_list, rotation=90)\n",
    "plt.grid()"
   ]
  },
  {
   "cell_type": "markdown",
   "metadata": {},
   "source": [
    "## TODO: 超出上限30度時，發出line警報"
   ]
  },
  {
   "cell_type": "code",
   "execution_count": null,
   "metadata": {},
   "outputs": [],
   "source": []
  },
  {
   "cell_type": "markdown",
   "metadata": {},
   "source": []
  },
  {
   "cell_type": "markdown",
   "metadata": {},
   "source": [
    "## TODO: 收集Malo農場的資訊"
   ]
  },
  {
   "cell_type": "code",
   "execution_count": null,
   "metadata": {},
   "outputs": [],
   "source": [
    "topic_temp = '/malo/farm/temp'\n",
    "topic_humi = '/malo/farm/humi'\n",
    "topic_co2 = '/malo/farm/CO2'\n",
    "topic_v = '/malo/farm/v3'\n"
   ]
  }
 ],
 "metadata": {
  "kernelspec": {
   "display_name": "Python 3",
   "language": "python",
   "name": "python3"
  },
  "language_info": {
   "codemirror_mode": {
    "name": "ipython",
    "version": 3
   },
   "file_extension": ".py",
   "mimetype": "text/x-python",
   "name": "python",
   "nbconvert_exporter": "python",
   "pygments_lexer": "ipython3",
   "version": "3.7.0"
  }
 },
 "nbformat": 4,
 "nbformat_minor": 2
}
