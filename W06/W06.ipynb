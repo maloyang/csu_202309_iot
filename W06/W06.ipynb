{
 "cells": [
  {
   "cell_type": "markdown",
   "metadata": {},
   "source": [
    "# ThingSpeak\n",
    "\n",
    "### [申請網址](https://thingspeak.com/)\n",
    "\n",
    "![申請資訊](image/thingSpeak-nopwd.png)\n",
    "\n",
    "### 申請完，登入後，點「New Channel」，來新增Channel\n",
    "\n",
    "![new channel](image/thingspeak2.png)\n",
    "\n",
    "### 設定頁面中，填入Name，並增加二個資料欄位(Field)\n",
    "\n",
    "![set channel](image/thingspeak3.png)\n",
    "\n",
    "### 設定完，後會進入這樣的頁面，其中\n",
    "- Private View: 個人登入帳號才能看到的畫面\n",
    "- Public View: 讓別人都可以看到的畫面\n",
    "- API Keys: 存取資源時要用的Key\n",
    "\n",
    "![manage](image/thingspeak4.png)    \n",
    "\n",
    "### 我們需要把「Write API Key」放到程式中，這樣才能正常的上傳資料\n",
    "\n",
    "![key](image/thingspeak5.png)\n",
    "\n",
    "----\n"
   ]
  },
  {
   "cell_type": "markdown",
   "metadata": {},
   "source": [
    "## 上傳範例\n",
    "\n",
    "### 在API Key頁面的右手邊可以看到教學範例：\n",
    "\n",
    "* 比如update資料 (Update a Channel Feed)\n",
    "    * https://api.thingspeak.com/update?api_key=SN3MX47QVGF1BTB3&field1=0\n",
    "\n",
    "* 取得最近二筆資料 (Get a Channel Feed)\n",
    "    * https://api.thingspeak.com/channels/524277/feeds.json?api_key=L9PXB7EQW43193JB&results=2\n",
    "\n",
    "![feed](image/thingspeak6.png)\n"
   ]
  },
  {
   "cell_type": "markdown",
   "metadata": {},
   "source": [
    "## push to thingSpeak"
   ]
  },
  {
   "cell_type": "code",
   "execution_count": 15,
   "metadata": {},
   "outputs": [
    {
     "data": {
      "text/plain": [
       "<Response [200]>"
      ]
     },
     "execution_count": 15,
     "metadata": {},
     "output_type": "execute_result"
    }
   ],
   "source": [
    "import requests\n",
    "\n",
    "# use: https://api.thingspeak.com/update?api_key=TWB7BD496GOYPGM1&field1=25&field2=65\n",
    "# field1: T\n",
    "# field2: H\n",
    "url = 'https://api.thingspeak.com/update'\n",
    "api_key = 'SN3MX47QVGF1BTB3'\n",
    "field1 = 20\n",
    "field2 = 80\n",
    "data = {'api_key': api_key, 'field1':field1, 'field2':field2}\n",
    "r = requests.get(url, params=data)\n",
    "r"
   ]
  },
  {
   "cell_type": "markdown",
   "metadata": {},
   "source": [
    "----\n",
    "### 練習題：利用之前教的亂數，每30秒產生一筆資料，上傳雲端"
   ]
  },
  {
   "cell_type": "code",
   "execution_count": null,
   "metadata": {},
   "outputs": [],
   "source": [
    "# 請填入你的程式\n"
   ]
  }
 ],
 "metadata": {
  "kernelspec": {
   "display_name": "Python 3 (ipykernel)",
   "language": "python",
   "name": "python3"
  },
  "language_info": {
   "codemirror_mode": {
    "name": "ipython",
    "version": 3
   },
   "file_extension": ".py",
   "mimetype": "text/x-python",
   "name": "python",
   "nbconvert_exporter": "python",
   "pygments_lexer": "ipython3",
   "version": "3.9.12"
  }
 },
 "nbformat": 4,
 "nbformat_minor": 4
}
